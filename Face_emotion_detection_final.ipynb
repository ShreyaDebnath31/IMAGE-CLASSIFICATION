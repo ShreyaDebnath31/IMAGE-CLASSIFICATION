{
  "nbformat": 4,
  "nbformat_minor": 0,
  "metadata": {
    "colab": {
      "provenance": [],
      "gpuType": "T4"
    },
    "kernelspec": {
      "name": "python3",
      "display_name": "Python 3"
    },
    "language_info": {
      "name": "python"
    },
    "accelerator": "GPU"
  },
  "cells": [
    {
      "cell_type": "code",
      "execution_count": 2,
      "metadata": {
        "id": "EOmAd9kqad1D"
      },
      "outputs": [],
      "source": [
        "!mkdir -p ~/.kaggle\n",
        "!cp kaggle.json ~/.kaggle/"
      ]
    },
    {
      "cell_type": "code",
      "source": [
        "!kaggle datasets download -d msambare/fer2013"
      ],
      "metadata": {
        "colab": {
          "base_uri": "https://localhost:8080/"
        },
        "id": "qzb9tPiLbHw7",
        "outputId": "534d0cea-ee33-423d-d754-c8703f2e1fe0"
      },
      "execution_count": 3,
      "outputs": [
        {
          "output_type": "stream",
          "name": "stdout",
          "text": [
            "Warning: Your Kaggle API key is readable by other users on this system! To fix this, you can run 'chmod 600 /root/.kaggle/kaggle.json'\n",
            "Downloading fer2013.zip to /content\n",
            " 88% 53.0M/60.3M [00:00<00:00, 136MB/s]\n",
            "100% 60.3M/60.3M [00:00<00:00, 140MB/s]\n"
          ]
        }
      ]
    },
    {
      "cell_type": "code",
      "source": [
        "import zipfile\n",
        "zip_ref = zipfile.ZipFile('/content/fer2013.zip','r')\n",
        "zip_ref.extractall('/content')\n",
        "zip_ref.close()"
      ],
      "metadata": {
        "id": "GcPLj3wrbLZz"
      },
      "execution_count": 4,
      "outputs": []
    },
    {
      "cell_type": "code",
      "source": [
        "import tensorflow as tf\n",
        "from tensorflow import keras\n",
        "from keras.models import Sequential\n",
        "from keras.layers import Conv2D,MaxPooling2D,Dense,Flatten,BatchNormalization,Dropout,GlobalAveragePooling2D\n",
        "from keras.preprocessing.image import ImageDataGenerator\n",
        "import numpy as n\n",
        "import pandas as p\n",
        "import os\n",
        "import matplotlib.pyplot as py\n",
        "import random\n",
        "%matplotlib inline\n",
        "import random\n",
        "from keras.applications import MobileNetV2\n",
        "from keras.models import Model\n",
        "from keras import regularizers\n",
        "from keras.preprocessing import image\n",
        "from keras.preprocessing.image import ImageDataGenerator\n",
        "from keras.utils import load_img,img_to_array\n",
        "from keras.utils import to_categorical\n",
        "import cv2"
      ],
      "metadata": {
        "id": "-zHj8WpqbNHD"
      },
      "execution_count": 5,
      "outputs": []
    },
    {
      "cell_type": "code",
      "source": [
        "train_datagen = ImageDataGenerator(\n",
        "           rescale = 1./255,\n",
        "           rotation_range = 40,\n",
        "           width_shift_range = 0.2,\n",
        "           height_shift_range=0.2,\n",
        "           shear_range = 0.2,\n",
        "           zoom_range = 0.4,\n",
        "           horizontal_flip = True,\n",
        "           fill_mode = 'nearest'\n",
        "\n",
        "    )\n",
        "\n",
        "test_datagen = ImageDataGenerator(\n",
        "           rescale = 1./224,\n",
        ")\n",
        "\n",
        "\n",
        "train_generator = train_datagen.flow_from_directory(\n",
        "       '/content/train',\n",
        "       target_size = (224,224),\n",
        "       batch_size = 32,\n",
        "       class_mode='categorical'\n",
        ")\n",
        "\n",
        "val_generator = test_datagen.flow_from_directory(\n",
        "       '/content/test',\n",
        "       target_size = (224,224),\n",
        "       batch_size = 32,\n",
        "       class_mode='categorical'\n",
        ")"
      ],
      "metadata": {
        "colab": {
          "base_uri": "https://localhost:8080/"
        },
        "id": "wRixjQKWbPN8",
        "outputId": "08badf20-499b-492b-af87-f352e23933e6"
      },
      "execution_count": 27,
      "outputs": [
        {
          "output_type": "stream",
          "name": "stdout",
          "text": [
            "Found 28709 images belonging to 7 classes.\n",
            "Found 7178 images belonging to 7 classes.\n"
          ]
        }
      ]
    },
    {
      "cell_type": "code",
      "source": [
        "model = MobileNetV2()"
      ],
      "metadata": {
        "colab": {
          "base_uri": "https://localhost:8080/"
        },
        "id": "oX4cjXg9bU78",
        "outputId": "34a50126-ae1d-48fc-fc2a-1ffa0d84774f"
      },
      "execution_count": 7,
      "outputs": [
        {
          "output_type": "stream",
          "name": "stdout",
          "text": [
            "Downloading data from https://storage.googleapis.com/tensorflow/keras-applications/mobilenet_v2/mobilenet_v2_weights_tf_dim_ordering_tf_kernels_1.0_224.h5\n",
            "14536120/14536120 [==============================] - 0s 0us/step\n"
          ]
        }
      ]
    },
    {
      "cell_type": "code",
      "source": [
        "base_input = model.layers[0].input"
      ],
      "metadata": {
        "id": "4opMTPt4bas6"
      },
      "execution_count": 8,
      "outputs": []
    },
    {
      "cell_type": "code",
      "source": [
        "base_output = model.layers[-2].output"
      ],
      "metadata": {
        "id": "Gy-28JzPbdAp"
      },
      "execution_count": 9,
      "outputs": []
    },
    {
      "cell_type": "code",
      "source": [
        "final_output = keras.layers.Dense(128)(base_output)\n",
        "final_output = keras.layers.Activation('relu')(final_output)\n",
        "final_output = keras.layers.Dense(64)(final_output)\n",
        "final_output = keras.layers.Activation('relu')(final_output)\n",
        "final_output = keras.layers.Dense(7,activation = 'softmax')(final_output)"
      ],
      "metadata": {
        "id": "MO4A-lXhbdq3"
      },
      "execution_count": 10,
      "outputs": []
    },
    {
      "cell_type": "code",
      "source": [
        "new_model = keras.Model(inputs=base_input,outputs = final_output)"
      ],
      "metadata": {
        "id": "ttFTn70VbduH"
      },
      "execution_count": 11,
      "outputs": []
    },
    {
      "cell_type": "code",
      "source": [
        "new_model.compile(loss='categorical_crossentropy',optimizer=tf.keras.optimizers.Adam(0.0003),metrics=['accuracy'])"
      ],
      "metadata": {
        "id": "2L-JViGAbdyp"
      },
      "execution_count": 12,
      "outputs": []
    },
    {
      "cell_type": "code",
      "source": [
        "checkpointer = [tf.keras.callbacks.EarlyStopping(monitor = 'val_accuracy', verbose = 1, restore_best_weights=True, mode=\"max\",patience = 10),\n",
        "                tf.keras.callbacks.ModelCheckpoint(\n",
        "                    filepath='final_model_weights.hdf5',\n",
        "                    monitor=\"val_accuracy\",\n",
        "                    verbose=1,\n",
        "                    save_best_only=True,\n",
        "                    mode=\"max\")]"
      ],
      "metadata": {
        "id": "CoxpMUyDbeIF"
      },
      "execution_count": 13,
      "outputs": []
    },
    {
      "cell_type": "code",
      "source": [
        "steps_per_epoch = train_generator.n // train_generator.batch_size\n",
        "validation_steps = val_generator.n // val_generator.batch_size\n",
        "history = new_model.fit(x=train_generator,\n",
        "                 validation_data=val_generator,\n",
        "                 epochs=25,\n",
        "                 callbacks=[checkpointer],\n",
        "                 steps_per_epoch=steps_per_epoch,\n",
        "                 validation_steps=validation_steps)"
      ],
      "metadata": {
        "colab": {
          "base_uri": "https://localhost:8080/"
        },
        "id": "bZDSfQbKbeKX",
        "outputId": "b3fcd371-2b5c-4284-9c74-ada925cd5281"
      },
      "execution_count": 14,
      "outputs": [
        {
          "output_type": "stream",
          "name": "stdout",
          "text": [
            "Epoch 1/25\n",
            "897/897 [==============================] - ETA: 0s - loss: 1.4038 - accuracy: 0.4589\n",
            "Epoch 1: val_accuracy improved from -inf to 0.42397, saving model to final_model_weights.hdf5\n"
          ]
        },
        {
          "output_type": "stream",
          "name": "stderr",
          "text": [
            "/usr/local/lib/python3.10/dist-packages/keras/src/engine/training.py:3079: UserWarning: You are saving your model as an HDF5 file via `model.save()`. This file format is considered legacy. We recommend using instead the native Keras format, e.g. `model.save('my_model.keras')`.\n",
            "  saving_api.save_model(\n"
          ]
        },
        {
          "output_type": "stream",
          "name": "stdout",
          "text": [
            "\b\b\b\b\b\b\b\b\b\b\b\b\b\b\b\b\b\b\b\b\b\b\b\b\b\b\b\b\b\b\b\b\b\b\b\b\b\b\b\b\b\b\b\b\b\b\b\b\b\b\b\b\b\b\b\b\b\b\b\b\b\b\b\b\b\b\b\b\b\b\b\b\b\b\b\b\b\b\b\b\b\b\b\b\r897/897 [==============================] - 459s 464ms/step - loss: 1.4038 - accuracy: 0.4589 - val_loss: 2.3351 - val_accuracy: 0.4240\n",
            "Epoch 2/25\n",
            "897/897 [==============================] - ETA: 0s - loss: 1.1899 - accuracy: 0.5473\n",
            "Epoch 2: val_accuracy improved from 0.42397 to 0.51032, saving model to final_model_weights.hdf5\n",
            "897/897 [==============================] - 408s 455ms/step - loss: 1.1899 - accuracy: 0.5473 - val_loss: 1.8593 - val_accuracy: 0.5103\n",
            "Epoch 3/25\n",
            "897/897 [==============================] - ETA: 0s - loss: 1.1206 - accuracy: 0.5783\n",
            "Epoch 3: val_accuracy improved from 0.51032 to 0.53418, saving model to final_model_weights.hdf5\n",
            "897/897 [==============================] - 405s 452ms/step - loss: 1.1206 - accuracy: 0.5783 - val_loss: 1.3248 - val_accuracy: 0.5342\n",
            "Epoch 4/25\n",
            "897/897 [==============================] - ETA: 0s - loss: 1.0831 - accuracy: 0.5902\n",
            "Epoch 4: val_accuracy improved from 0.53418 to 0.57199, saving model to final_model_weights.hdf5\n",
            "897/897 [==============================] - 410s 456ms/step - loss: 1.0831 - accuracy: 0.5902 - val_loss: 1.1949 - val_accuracy: 0.5720\n",
            "Epoch 5/25\n",
            "897/897 [==============================] - ETA: 0s - loss: 1.0462 - accuracy: 0.6050\n",
            "Epoch 5: val_accuracy improved from 0.57199 to 0.61537, saving model to final_model_weights.hdf5\n",
            "897/897 [==============================] - 400s 446ms/step - loss: 1.0462 - accuracy: 0.6050 - val_loss: 1.0737 - val_accuracy: 0.6154\n",
            "Epoch 6/25\n",
            "897/897 [==============================] - ETA: 0s - loss: 1.0192 - accuracy: 0.6176\n",
            "Epoch 6: val_accuracy improved from 0.61537 to 0.62319, saving model to final_model_weights.hdf5\n",
            "897/897 [==============================] - 386s 430ms/step - loss: 1.0192 - accuracy: 0.6176 - val_loss: 1.0725 - val_accuracy: 0.6232\n",
            "Epoch 7/25\n",
            "897/897 [==============================] - ETA: 0s - loss: 1.0044 - accuracy: 0.6247\n",
            "Epoch 7: val_accuracy improved from 0.62319 to 0.62877, saving model to final_model_weights.hdf5\n",
            "897/897 [==============================] - 387s 432ms/step - loss: 1.0044 - accuracy: 0.6247 - val_loss: 1.0806 - val_accuracy: 0.6288\n",
            "Epoch 8/25\n",
            "897/897 [==============================] - ETA: 0s - loss: 0.9780 - accuracy: 0.6296\n",
            "Epoch 8: val_accuracy did not improve from 0.62877\n",
            "897/897 [==============================] - 389s 434ms/step - loss: 0.9780 - accuracy: 0.6296 - val_loss: 1.1374 - val_accuracy: 0.6052\n",
            "Epoch 9/25\n",
            "897/897 [==============================] - ETA: 0s - loss: 0.9606 - accuracy: 0.6390\n",
            "Epoch 9: val_accuracy did not improve from 0.62877\n",
            "897/897 [==============================] - 387s 431ms/step - loss: 0.9606 - accuracy: 0.6390 - val_loss: 1.0737 - val_accuracy: 0.6217\n",
            "Epoch 10/25\n",
            "897/897 [==============================] - ETA: 0s - loss: 0.9448 - accuracy: 0.6470\n",
            "Epoch 10: val_accuracy improved from 0.62877 to 0.62946, saving model to final_model_weights.hdf5\n",
            "897/897 [==============================] - 389s 434ms/step - loss: 0.9448 - accuracy: 0.6470 - val_loss: 1.0050 - val_accuracy: 0.6295\n",
            "Epoch 11/25\n",
            "897/897 [==============================] - ETA: 0s - loss: 0.9335 - accuracy: 0.6509\n",
            "Epoch 11: val_accuracy improved from 0.62946 to 0.63058, saving model to final_model_weights.hdf5\n",
            "897/897 [==============================] - 387s 432ms/step - loss: 0.9335 - accuracy: 0.6509 - val_loss: 1.0988 - val_accuracy: 0.6306\n",
            "Epoch 12/25\n",
            "897/897 [==============================] - ETA: 0s - loss: 0.9153 - accuracy: 0.6570\n",
            "Epoch 12: val_accuracy improved from 0.63058 to 0.65513, saving model to final_model_weights.hdf5\n",
            "897/897 [==============================] - 405s 451ms/step - loss: 0.9153 - accuracy: 0.6570 - val_loss: 0.9780 - val_accuracy: 0.6551\n",
            "Epoch 13/25\n",
            "897/897 [==============================] - ETA: 0s - loss: 0.9017 - accuracy: 0.6622\n",
            "Epoch 13: val_accuracy did not improve from 0.65513\n",
            "897/897 [==============================] - 394s 438ms/step - loss: 0.9017 - accuracy: 0.6622 - val_loss: 1.1103 - val_accuracy: 0.6148\n",
            "Epoch 14/25\n",
            "897/897 [==============================] - ETA: 0s - loss: 0.8840 - accuracy: 0.6696\n",
            "Epoch 14: val_accuracy did not improve from 0.65513\n",
            "897/897 [==============================] - 387s 432ms/step - loss: 0.8840 - accuracy: 0.6696 - val_loss: 0.9814 - val_accuracy: 0.6448\n",
            "Epoch 15/25\n",
            "897/897 [==============================] - ETA: 0s - loss: 0.8687 - accuracy: 0.6731\n",
            "Epoch 15: val_accuracy improved from 0.65513 to 0.66309, saving model to final_model_weights.hdf5\n",
            "897/897 [==============================] - 388s 432ms/step - loss: 0.8687 - accuracy: 0.6731 - val_loss: 0.9895 - val_accuracy: 0.6631\n",
            "Epoch 16/25\n",
            "897/897 [==============================] - ETA: 0s - loss: 0.8646 - accuracy: 0.6748\n",
            "Epoch 16: val_accuracy did not improve from 0.66309\n",
            "897/897 [==============================] - 391s 436ms/step - loss: 0.8646 - accuracy: 0.6748 - val_loss: 1.0474 - val_accuracy: 0.6338\n",
            "Epoch 17/25\n",
            "897/897 [==============================] - ETA: 0s - loss: 0.8464 - accuracy: 0.6827\n",
            "Epoch 17: val_accuracy did not improve from 0.66309\n",
            "897/897 [==============================] - 387s 432ms/step - loss: 0.8464 - accuracy: 0.6827 - val_loss: 0.9853 - val_accuracy: 0.6522\n",
            "Epoch 18/25\n",
            "897/897 [==============================] - ETA: 0s - loss: 0.8338 - accuracy: 0.6860\n",
            "Epoch 18: val_accuracy did not improve from 0.66309\n",
            "897/897 [==============================] - 388s 433ms/step - loss: 0.8338 - accuracy: 0.6860 - val_loss: 0.9846 - val_accuracy: 0.6604\n",
            "Epoch 19/25\n",
            "897/897 [==============================] - ETA: 0s - loss: 0.8275 - accuracy: 0.6908\n",
            "Epoch 19: val_accuracy improved from 0.66309 to 0.66643, saving model to final_model_weights.hdf5\n",
            "897/897 [==============================] - 390s 434ms/step - loss: 0.8275 - accuracy: 0.6908 - val_loss: 0.9586 - val_accuracy: 0.6664\n",
            "Epoch 20/25\n",
            "897/897 [==============================] - ETA: 0s - loss: 0.8129 - accuracy: 0.6978\n",
            "Epoch 20: val_accuracy improved from 0.66643 to 0.66825, saving model to final_model_weights.hdf5\n",
            "897/897 [==============================] - 390s 434ms/step - loss: 0.8129 - accuracy: 0.6978 - val_loss: 0.9247 - val_accuracy: 0.6682\n",
            "Epoch 21/25\n",
            "897/897 [==============================] - ETA: 0s - loss: 0.8095 - accuracy: 0.6971\n",
            "Epoch 21: val_accuracy did not improve from 0.66825\n",
            "897/897 [==============================] - 399s 445ms/step - loss: 0.8095 - accuracy: 0.6971 - val_loss: 1.0499 - val_accuracy: 0.6350\n",
            "Epoch 22/25\n",
            "897/897 [==============================] - ETA: 0s - loss: 0.7912 - accuracy: 0.7030\n",
            "Epoch 22: val_accuracy did not improve from 0.66825\n",
            "897/897 [==============================] - 391s 436ms/step - loss: 0.7912 - accuracy: 0.7030 - val_loss: 0.9613 - val_accuracy: 0.6533\n",
            "Epoch 23/25\n",
            "897/897 [==============================] - ETA: 0s - loss: 0.7818 - accuracy: 0.7103\n",
            "Epoch 23: val_accuracy did not improve from 0.66825\n",
            "897/897 [==============================] - 387s 431ms/step - loss: 0.7818 - accuracy: 0.7103 - val_loss: 0.9791 - val_accuracy: 0.6583\n",
            "Epoch 24/25\n",
            "897/897 [==============================] - ETA: 0s - loss: 0.7725 - accuracy: 0.7119\n",
            "Epoch 24: val_accuracy did not improve from 0.66825\n",
            "897/897 [==============================] - 402s 448ms/step - loss: 0.7725 - accuracy: 0.7119 - val_loss: 0.9271 - val_accuracy: 0.6682\n",
            "Epoch 25/25\n",
            "897/897 [==============================] - ETA: 0s - loss: 0.7650 - accuracy: 0.7175\n",
            "Epoch 25: val_accuracy did not improve from 0.66825\n",
            "897/897 [==============================] - 389s 433ms/step - loss: 0.7650 - accuracy: 0.7175 - val_loss: 1.0003 - val_accuracy: 0.6489\n"
          ]
        }
      ]
    },
    {
      "cell_type": "code",
      "source": [
        "py.plot(history.history['accuracy'],color='blue',label='train')\n",
        "py.plot(history.history['val_accuracy'],color='red',label='validation')\n",
        "py.legend()\n",
        "py.show()"
      ],
      "metadata": {
        "colab": {
          "base_uri": "https://localhost:8080/",
          "height": 430
        },
        "id": "JjvCIMDBH607",
        "outputId": "b25745c3-6e12-4c76-eab1-036a457906bd"
      },
      "execution_count": 15,
      "outputs": [
        {
          "output_type": "display_data",
          "data": {
            "text/plain": [
              "<Figure size 640x480 with 1 Axes>"
            ],
            "image/png": "[encoded data removed]"
          },
          "metadata": {}
        }
      ]
    },
    {
      "cell_type": "code",
      "source": [
        "py.plot(history.history['loss'],color='blue',label='train')\n",
        "py.plot(history.history['val_loss'],color='red',label='validation')\n",
        "py.legend()\n",
        "py.show()"
      ],
      "metadata": {
        "colab": {
          "base_uri": "https://localhost:8080/",
          "height": 432
        },
        "id": "mLi32dN6H72W",
        "outputId": "b98f837f-7e96-4420-87c2-5218960756aa"
      },
      "execution_count": 16,
      "outputs": [
        {
          "output_type": "display_data",
          "data": {
            "text/plain": [
              "<Figure size 640x480 with 1 Axes>"
            ],
            "image/png": "[encoded data removed]"
          },
          "metadata": {}
        }
      ]
    },
    {
      "cell_type": "code",
      "source": [
        "new_model.save('Facial_Detection_model.h5')"
      ],
      "metadata": {
        "id": "GxZdTRItFFIn"
      },
      "execution_count": 17,
      "outputs": []
    },
    {
      "cell_type": "code",
      "source": [
        "new_model = keras.models.load_model('Facial_Detection_model.h5')"
      ],
      "metadata": {
        "id": "DqYZRbEpbeO-"
      },
      "execution_count": 18,
      "outputs": []
    },
    {
      "cell_type": "code",
      "source": [
        "img_path = 'happpy.png'"
      ],
      "metadata": {
        "id": "UgyvKhpzbeRY"
      },
      "execution_count": 47,
      "outputs": []
    },
    {
      "cell_type": "code",
      "source": [
        "img = load_img(img_path,target_size = (224,224))"
      ],
      "metadata": {
        "id": "bD7xYUdSRcta"
      },
      "execution_count": 57,
      "outputs": []
    },
    {
      "cell_type": "code",
      "source": [
        "img"
      ],
      "metadata": {
        "colab": {
          "base_uri": "https://localhost:8080/",
          "height": 241
        },
        "id": "ejuXx0sXRcxF",
        "outputId": "aec6401f-6210-434d-835e-d3a5466e46b5"
      },
      "execution_count": 58,
      "outputs": [
        {
          "output_type": "execute_result",
          "data": {
            "text/plain": [
              "<PIL.Image.Image image mode=RGB size=224x224>"
            ],
            "image/png": "[encoded data removed]"
          },
          "metadata": {},
          "execution_count": 58
        }
      ]
    },
    {
      "cell_type": "code",
      "source": [
        "x = img_to_array(img)"
      ],
      "metadata": {
        "id": "RV4x5mQeRc1T"
      },
      "execution_count": 59,
      "outputs": []
    },
    {
      "cell_type": "code",
      "source": [
        "x"
      ],
      "metadata": {
        "colab": {
          "base_uri": "https://localhost:8080/"
        },
        "id": "-jA8lIhObRAj",
        "outputId": "f5cc0b88-3cb9-48a0-ce5d-eedf1bc8838f"
      },
      "execution_count": 60,
      "outputs": [
        {
          "output_type": "execute_result",
          "data": {
            "text/plain": [
              "array([[[0., 0., 0.],\n",
              "        [0., 0., 0.],\n",
              "        [0., 0., 0.],\n",
              "        ...,\n",
              "        [0., 0., 0.],\n",
              "        [0., 0., 0.],\n",
              "        [0., 0., 0.]],\n",
              "\n",
              "       [[0., 0., 0.],\n",
              "        [0., 0., 0.],\n",
              "        [0., 0., 0.],\n",
              "        ...,\n",
              "        [0., 0., 0.],\n",
              "        [0., 0., 0.],\n",
              "        [0., 0., 0.]],\n",
              "\n",
              "       [[0., 0., 0.],\n",
              "        [0., 0., 0.],\n",
              "        [0., 0., 0.],\n",
              "        ...,\n",
              "        [0., 0., 0.],\n",
              "        [0., 0., 0.],\n",
              "        [0., 0., 0.]],\n",
              "\n",
              "       ...,\n",
              "\n",
              "       [[0., 0., 0.],\n",
              "        [0., 0., 0.],\n",
              "        [0., 0., 0.],\n",
              "        ...,\n",
              "        [0., 0., 0.],\n",
              "        [0., 0., 0.],\n",
              "        [0., 0., 0.]],\n",
              "\n",
              "       [[0., 0., 0.],\n",
              "        [0., 0., 0.],\n",
              "        [0., 0., 0.],\n",
              "        ...,\n",
              "        [0., 0., 0.],\n",
              "        [0., 0., 0.],\n",
              "        [0., 0., 0.]],\n",
              "\n",
              "       [[0., 0., 0.],\n",
              "        [0., 0., 0.],\n",
              "        [0., 0., 0.],\n",
              "        ...,\n",
              "        [0., 0., 0.],\n",
              "        [0., 0., 0.],\n",
              "        [0., 0., 0.]]], dtype=float32)"
            ]
          },
          "metadata": {},
          "execution_count": 60
        }
      ]
    },
    {
      "cell_type": "code",
      "source": [
        "x = n.expand_dims(x,axis=0)"
      ],
      "metadata": {
        "id": "bf9y4Az3beTx"
      },
      "execution_count": 52,
      "outputs": []
    },
    {
      "cell_type": "code",
      "source": [
        "x"
      ],
      "metadata": {
        "colab": {
          "base_uri": "https://localhost:8080/"
        },
        "id": "xqsmTVrEbTRm",
        "outputId": "26efa453-75a0-4af6-d5cc-2832a43da82e"
      },
      "execution_count": 53,
      "outputs": [
        {
          "output_type": "execute_result",
          "data": {
            "text/plain": [
              "array([[[[0., 0., 0.],\n",
              "         [0., 0., 0.],\n",
              "         [0., 0., 0.],\n",
              "         ...,\n",
              "         [0., 0., 0.],\n",
              "         [0., 0., 0.],\n",
              "         [0., 0., 0.]],\n",
              "\n",
              "        [[0., 0., 0.],\n",
              "         [0., 0., 0.],\n",
              "         [0., 0., 0.],\n",
              "         ...,\n",
              "         [0., 0., 0.],\n",
              "         [0., 0., 0.],\n",
              "         [0., 0., 0.]],\n",
              "\n",
              "        [[0., 0., 0.],\n",
              "         [0., 0., 0.],\n",
              "         [0., 0., 0.],\n",
              "         ...,\n",
              "         [0., 0., 0.],\n",
              "         [0., 0., 0.],\n",
              "         [0., 0., 0.]],\n",
              "\n",
              "        ...,\n",
              "\n",
              "        [[0., 0., 0.],\n",
              "         [0., 0., 0.],\n",
              "         [0., 0., 0.],\n",
              "         ...,\n",
              "         [0., 0., 0.],\n",
              "         [0., 0., 0.],\n",
              "         [0., 0., 0.]],\n",
              "\n",
              "        [[0., 0., 0.],\n",
              "         [0., 0., 0.],\n",
              "         [0., 0., 0.],\n",
              "         ...,\n",
              "         [0., 0., 0.],\n",
              "         [0., 0., 0.],\n",
              "         [0., 0., 0.]],\n",
              "\n",
              "        [[0., 0., 0.],\n",
              "         [0., 0., 0.],\n",
              "         [0., 0., 0.],\n",
              "         ...,\n",
              "         [0., 0., 0.],\n",
              "         [0., 0., 0.],\n",
              "         [0., 0., 0.]]]], dtype=float32)"
            ]
          },
          "metadata": {},
          "execution_count": 53
        }
      ]
    }
  ]
}